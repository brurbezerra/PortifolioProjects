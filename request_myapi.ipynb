{
 "cells": [
  {
   "cell_type": "markdown",
   "id": "c2a26437-8493-44bd-b021-ea94a4fdd570",
   "metadata": {},
   "source": [
    "### To access a endpoint we need the library request\n"
   ]
  },
  {
   "cell_type": "code",
   "execution_count": 1,
   "id": "ed1449ab-b290-4be7-940f-04444739f7f4",
   "metadata": {},
   "outputs": [],
   "source": [
    "import requests"
   ]
  },
  {
   "cell_type": "code",
   "execution_count": 4,
   "id": "7e993273-706e-4da9-9ca2-44fdd4d5303d",
   "metadata": {},
   "outputs": [
    {
     "name": "stdout",
     "output_type": "stream",
     "text": [
      "<Response [200]>\n",
      "{'total_vendas': 3026.1000000000004}\n",
      "3026.1000000000004\n"
     ]
    }
   ],
   "source": [
    "link = 'https://myapi.brunarodrigues9.repl.co/pullsales'\n",
    "request = requests.get(link)\n",
    "\n",
    "print(request) ## when we print this request, by pattern, it prints the code and status of it\n",
    "print(request.json())\n",
    "\n",
    "dictionary =  request.json()\n",
    "print(dictionary['total_vendas'])"
   ]
  },
  {
   "cell_type": "code",
   "execution_count": null,
   "id": "3d7b04cb-6fd0-4e01-9924-1bc8463d3dc1",
   "metadata": {},
   "outputs": [],
   "source": []
  }
 ],
 "metadata": {
  "kernelspec": {
   "display_name": "Python 3 (ipykernel)",
   "language": "python",
   "name": "python3"
  },
  "language_info": {
   "codemirror_mode": {
    "name": "ipython",
    "version": 3
   },
   "file_extension": ".py",
   "mimetype": "text/x-python",
   "name": "python",
   "nbconvert_exporter": "python",
   "pygments_lexer": "ipython3",
   "version": "3.8.10"
  }
 },
 "nbformat": 4,
 "nbformat_minor": 5
}
